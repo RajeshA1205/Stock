{
  "nbformat": 4,
  "nbformat_minor": 0,
  "metadata": {
    "colab": {
      "name": "Flipr_Stock Prediction.ipynb",
      "provenance": [],
      "collapsed_sections": []
    },
    "kernelspec": {
      "name": "python3",
      "display_name": "Python 3"
    }
  },
  "cells": [
    {
      "cell_type": "code",
      "metadata": {
        "id": "FnZH_vAXToMn",
        "colab_type": "code",
        "colab": {
          "base_uri": "https://localhost:8080/",
          "height": 71
        },
        "outputId": "f49dd32c-0a94-464b-bd13-916e47c175b2"
      },
      "source": [
        "import numpy as np\n",
        "import pandas as pd\n",
        "import matplotlib.pyplot as plt\n",
        "import seaborn as sns\n",
        "from sklearn.model_selection import train_test_split \n",
        "from sklearn.linear_model import LogisticRegression\n",
        "from sklearn import metrics\n",
        "%matplotlib inline\n",
        "from sklearn import preprocessing\n",
        "from sklearn.experimental import enable_iterative_imputer\n",
        "from sklearn.impute import IterativeImputer\n",
        "import warnings\n",
        "from sklearn.preprocessing import MinMaxScaler\n",
        "from sklearn.model_selection import train_test_split\n",
        "from sklearn.metrics import accuracy_score, recall_score, precision_score\n",
        "from sklearn.svm import SVR\n",
        "from scipy.stats import norm\n",
        "import statsmodels.api as sm\n",
        "warnings.filterwarnings('ignore')"
      ],
      "execution_count": 1,
      "outputs": [
        {
          "output_type": "stream",
          "text": [
            "/usr/local/lib/python3.6/dist-packages/statsmodels/tools/_testing.py:19: FutureWarning: pandas.util.testing is deprecated. Use the functions in the public API at pandas.testing instead.\n",
            "  import pandas.util.testing as tm\n"
          ],
          "name": "stderr"
        }
      ]
    },
    {
      "cell_type": "code",
      "metadata": {
        "id": "I_5JKMP9bJL_",
        "colab_type": "code",
        "colab": {
          "base_uri": "https://localhost:8080/",
          "height": 102
        },
        "outputId": "33c5c440-7a3f-4305-ba38-d99114423e60"
      },
      "source": [
        "data = pd.read_csv('Train_dataset.csv',sep=',')\n",
        "\n",
        "label_encoder = preprocessing.LabelEncoder() \n",
        "print(data.columns)\n",
        "data[data.columns[0]] = label_encoder.fit_transform(data[data.columns[0]])\n",
        "data[data.columns[1]] = label_encoder.fit_transform(data[data.columns[1]])\n",
        "data[data.columns[2]] = label_encoder.fit_transform(data[data.columns[1]])\n",
        "\n",
        "X = np.array(data[data.columns[1:-1]])\n",
        "y = np.array(data[data.columns[-1]])"
      ],
      "execution_count": 2,
      "outputs": [
        {
          "output_type": "stream",
          "text": [
            "Index(['Stock Index', 'Index', 'Industry', 'VWAP', 'General Index', 'NAV',\n",
            "       'P/E Ratio', 'Volumes Traded', 'Inventory Turnover',\n",
            "       'Covid Impact (Beta)', 'Tracking Error', 'Dollar Exchange Rate',\n",
            "       'Put-Call Ratio', 'P/B Ratio', 'Stock Price'],\n",
            "      dtype='object')\n"
          ],
          "name": "stdout"
        }
      ]
    },
    {
      "cell_type": "code",
      "metadata": {
        "id": "bciDHzSbkpsE",
        "colab_type": "code",
        "colab": {}
      },
      "source": [
        ""
      ],
      "execution_count": 2,
      "outputs": []
    },
    {
      "cell_type": "code",
      "metadata": {
        "id": "40gk3P7vdmqR",
        "colab_type": "code",
        "colab": {
          "base_uri": "https://localhost:8080/",
          "height": 119
        },
        "outputId": "1eabb6e5-f010-4b3a-db95-0c944be2ca83"
      },
      "source": [
        "imp = IterativeImputer(max_iter=10, random_state=0)\n",
        "imp.fit(X)"
      ],
      "execution_count": 3,
      "outputs": [
        {
          "output_type": "execute_result",
          "data": {
            "text/plain": [
              "IterativeImputer(add_indicator=False, estimator=None,\n",
              "                 imputation_order='ascending', initial_strategy='mean',\n",
              "                 max_iter=10, max_value=None, min_value=None,\n",
              "                 missing_values=nan, n_nearest_features=None, random_state=0,\n",
              "                 sample_posterior=False, skip_complete=False, tol=0.001,\n",
              "                 verbose=0)"
            ]
          },
          "metadata": {
            "tags": []
          },
          "execution_count": 3
        }
      ]
    },
    {
      "cell_type": "code",
      "metadata": {
        "id": "yTbPsOJtiPcc",
        "colab_type": "code",
        "colab": {}
      },
      "source": [
        "X_train = imp.transform(X)"
      ],
      "execution_count": 4,
      "outputs": []
    },
    {
      "cell_type": "code",
      "metadata": {
        "id": "kIDRgX5Lk924",
        "colab_type": "code",
        "colab": {
          "base_uri": "https://localhost:8080/",
          "height": 419
        },
        "outputId": "3ec25bb6-5fa6-4be9-f9de-60c92d7714fb"
      },
      "source": [
        "pd.DataFrame(X_train)"
      ],
      "execution_count": 5,
      "outputs": [
        {
          "output_type": "execute_result",
          "data": {
            "text/html": [
              "<div>\n",
              "<style scoped>\n",
              "    .dataframe tbody tr th:only-of-type {\n",
              "        vertical-align: middle;\n",
              "    }\n",
              "\n",
              "    .dataframe tbody tr th {\n",
              "        vertical-align: top;\n",
              "    }\n",
              "\n",
              "    .dataframe thead th {\n",
              "        text-align: right;\n",
              "    }\n",
              "</style>\n",
              "<table border=\"1\" class=\"dataframe\">\n",
              "  <thead>\n",
              "    <tr style=\"text-align: right;\">\n",
              "      <th></th>\n",
              "      <th>0</th>\n",
              "      <th>1</th>\n",
              "      <th>2</th>\n",
              "      <th>3</th>\n",
              "      <th>4</th>\n",
              "      <th>5</th>\n",
              "      <th>6</th>\n",
              "      <th>7</th>\n",
              "      <th>8</th>\n",
              "      <th>9</th>\n",
              "      <th>10</th>\n",
              "      <th>11</th>\n",
              "      <th>12</th>\n",
              "    </tr>\n",
              "  </thead>\n",
              "  <tbody>\n",
              "    <tr>\n",
              "      <th>0</th>\n",
              "      <td>3.0</td>\n",
              "      <td>3.0</td>\n",
              "      <td>700.290000</td>\n",
              "      <td>12765.84</td>\n",
              "      <td>32.38</td>\n",
              "      <td>45.350000</td>\n",
              "      <td>1208599.0</td>\n",
              "      <td>5.05</td>\n",
              "      <td>-0.43</td>\n",
              "      <td>0.0520</td>\n",
              "      <td>1.0</td>\n",
              "      <td>0.610000</td>\n",
              "      <td>9.200000</td>\n",
              "    </tr>\n",
              "    <tr>\n",
              "      <th>1</th>\n",
              "      <td>3.0</td>\n",
              "      <td>3.0</td>\n",
              "      <td>214.520000</td>\n",
              "      <td>12765.84</td>\n",
              "      <td>33.25</td>\n",
              "      <td>170.560000</td>\n",
              "      <td>13753356.0</td>\n",
              "      <td>3.10</td>\n",
              "      <td>0.23</td>\n",
              "      <td>0.0164</td>\n",
              "      <td>1.0</td>\n",
              "      <td>0.942804</td>\n",
              "      <td>6.910000</td>\n",
              "    </tr>\n",
              "    <tr>\n",
              "      <th>2</th>\n",
              "      <td>3.0</td>\n",
              "      <td>3.0</td>\n",
              "      <td>943.420000</td>\n",
              "      <td>12765.84</td>\n",
              "      <td>88.27</td>\n",
              "      <td>143.580000</td>\n",
              "      <td>6892003.0</td>\n",
              "      <td>7.70</td>\n",
              "      <td>0.23</td>\n",
              "      <td>0.0396</td>\n",
              "      <td>1.0</td>\n",
              "      <td>0.946485</td>\n",
              "      <td>6.090000</td>\n",
              "    </tr>\n",
              "    <tr>\n",
              "      <th>3</th>\n",
              "      <td>0.0</td>\n",
              "      <td>0.0</td>\n",
              "      <td>828.130000</td>\n",
              "      <td>38182.08</td>\n",
              "      <td>73.66</td>\n",
              "      <td>151.760000</td>\n",
              "      <td>8316793.0</td>\n",
              "      <td>4.80</td>\n",
              "      <td>0.03</td>\n",
              "      <td>0.0431</td>\n",
              "      <td>74.9</td>\n",
              "      <td>1.110000</td>\n",
              "      <td>5.600000</td>\n",
              "    </tr>\n",
              "    <tr>\n",
              "      <th>4</th>\n",
              "      <td>4.0</td>\n",
              "      <td>4.0</td>\n",
              "      <td>485.723837</td>\n",
              "      <td>3351.28</td>\n",
              "      <td>23.79</td>\n",
              "      <td>105.148726</td>\n",
              "      <td>3943312.0</td>\n",
              "      <td>8.06</td>\n",
              "      <td>-0.43</td>\n",
              "      <td>0.0244</td>\n",
              "      <td>1.0</td>\n",
              "      <td>1.070000</td>\n",
              "      <td>9.460000</td>\n",
              "    </tr>\n",
              "    <tr>\n",
              "      <th>...</th>\n",
              "      <td>...</td>\n",
              "      <td>...</td>\n",
              "      <td>...</td>\n",
              "      <td>...</td>\n",
              "      <td>...</td>\n",
              "      <td>...</td>\n",
              "      <td>...</td>\n",
              "      <td>...</td>\n",
              "      <td>...</td>\n",
              "      <td>...</td>\n",
              "      <td>...</td>\n",
              "      <td>...</td>\n",
              "      <td>...</td>\n",
              "    </tr>\n",
              "    <tr>\n",
              "      <th>7378</th>\n",
              "      <td>2.0</td>\n",
              "      <td>2.0</td>\n",
              "      <td>773.910000</td>\n",
              "      <td>11270.15</td>\n",
              "      <td>40.28</td>\n",
              "      <td>61.370000</td>\n",
              "      <td>19212221.0</td>\n",
              "      <td>4.34</td>\n",
              "      <td>0.78</td>\n",
              "      <td>0.0340</td>\n",
              "      <td>74.9</td>\n",
              "      <td>0.980000</td>\n",
              "      <td>4.978322</td>\n",
              "    </tr>\n",
              "    <tr>\n",
              "      <th>7379</th>\n",
              "      <td>1.0</td>\n",
              "      <td>1.0</td>\n",
              "      <td>61.970000</td>\n",
              "      <td>55722.00</td>\n",
              "      <td>79.56</td>\n",
              "      <td>62.900000</td>\n",
              "      <td>8108942.0</td>\n",
              "      <td>3.48</td>\n",
              "      <td>0.23</td>\n",
              "      <td>0.0528</td>\n",
              "      <td>17.7</td>\n",
              "      <td>0.840000</td>\n",
              "      <td>5.043177</td>\n",
              "    </tr>\n",
              "    <tr>\n",
              "      <th>7380</th>\n",
              "      <td>1.0</td>\n",
              "      <td>1.0</td>\n",
              "      <td>131.990000</td>\n",
              "      <td>55722.00</td>\n",
              "      <td>26.16</td>\n",
              "      <td>198.770000</td>\n",
              "      <td>8382586.0</td>\n",
              "      <td>3.04</td>\n",
              "      <td>0.03</td>\n",
              "      <td>0.0359</td>\n",
              "      <td>17.7</td>\n",
              "      <td>1.220000</td>\n",
              "      <td>5.062095</td>\n",
              "    </tr>\n",
              "    <tr>\n",
              "      <th>7381</th>\n",
              "      <td>4.0</td>\n",
              "      <td>4.0</td>\n",
              "      <td>643.720000</td>\n",
              "      <td>3351.28</td>\n",
              "      <td>29.24</td>\n",
              "      <td>38.830000</td>\n",
              "      <td>18638400.0</td>\n",
              "      <td>2.66</td>\n",
              "      <td>0.03</td>\n",
              "      <td>0.0581</td>\n",
              "      <td>1.0</td>\n",
              "      <td>1.040000</td>\n",
              "      <td>4.981380</td>\n",
              "    </tr>\n",
              "    <tr>\n",
              "      <th>7382</th>\n",
              "      <td>4.0</td>\n",
              "      <td>4.0</td>\n",
              "      <td>126.460000</td>\n",
              "      <td>3351.28</td>\n",
              "      <td>23.30</td>\n",
              "      <td>105.830000</td>\n",
              "      <td>14707806.0</td>\n",
              "      <td>7.51</td>\n",
              "      <td>0.23</td>\n",
              "      <td>0.0490</td>\n",
              "      <td>1.0</td>\n",
              "      <td>1.230000</td>\n",
              "      <td>5.073788</td>\n",
              "    </tr>\n",
              "  </tbody>\n",
              "</table>\n",
              "<p>7383 rows × 13 columns</p>\n",
              "</div>"
            ],
            "text/plain": [
              "       0    1           2         3   ...      9     10        11        12\n",
              "0     3.0  3.0  700.290000  12765.84  ...  0.0520   1.0  0.610000  9.200000\n",
              "1     3.0  3.0  214.520000  12765.84  ...  0.0164   1.0  0.942804  6.910000\n",
              "2     3.0  3.0  943.420000  12765.84  ...  0.0396   1.0  0.946485  6.090000\n",
              "3     0.0  0.0  828.130000  38182.08  ...  0.0431  74.9  1.110000  5.600000\n",
              "4     4.0  4.0  485.723837   3351.28  ...  0.0244   1.0  1.070000  9.460000\n",
              "...   ...  ...         ...       ...  ...     ...   ...       ...       ...\n",
              "7378  2.0  2.0  773.910000  11270.15  ...  0.0340  74.9  0.980000  4.978322\n",
              "7379  1.0  1.0   61.970000  55722.00  ...  0.0528  17.7  0.840000  5.043177\n",
              "7380  1.0  1.0  131.990000  55722.00  ...  0.0359  17.7  1.220000  5.062095\n",
              "7381  4.0  4.0  643.720000   3351.28  ...  0.0581   1.0  1.040000  4.981380\n",
              "7382  4.0  4.0  126.460000   3351.28  ...  0.0490   1.0  1.230000  5.073788\n",
              "\n",
              "[7383 rows x 13 columns]"
            ]
          },
          "metadata": {
            "tags": []
          },
          "execution_count": 5
        }
      ]
    },
    {
      "cell_type": "code",
      "metadata": {
        "id": "UOj_4fkQmNgm",
        "colab_type": "code",
        "colab": {
          "base_uri": "https://localhost:8080/",
          "height": 102
        },
        "outputId": "3a6077f5-649f-4302-af88-fa37eb9d1c96"
      },
      "source": [
        "data.columns"
      ],
      "execution_count": 6,
      "outputs": [
        {
          "output_type": "execute_result",
          "data": {
            "text/plain": [
              "Index(['Stock Index', 'Index', 'Industry', 'VWAP', 'General Index', 'NAV',\n",
              "       'P/E Ratio', 'Volumes Traded', 'Inventory Turnover',\n",
              "       'Covid Impact (Beta)', 'Tracking Error', 'Dollar Exchange Rate',\n",
              "       'Put-Call Ratio', 'P/B Ratio', 'Stock Price'],\n",
              "      dtype='object')"
            ]
          },
          "metadata": {
            "tags": []
          },
          "execution_count": 6
        }
      ]
    },
    {
      "cell_type": "code",
      "metadata": {
        "id": "ypKLvjanlnLK",
        "colab_type": "code",
        "colab": {}
      },
      "source": [
        "Train = pd.DataFrame(X_train, columns = data.columns[1:-1])\n",
        "Train['Stock Price'] = y"
      ],
      "execution_count": 7,
      "outputs": []
    },
    {
      "cell_type": "code",
      "metadata": {
        "id": "Buu42oQamaPW",
        "colab_type": "code",
        "colab": {
          "base_uri": "https://localhost:8080/",
          "height": 473
        },
        "outputId": "15553a56-6827-41be-a4b5-341d071f3b0a"
      },
      "source": [
        "Train"
      ],
      "execution_count": 8,
      "outputs": [
        {
          "output_type": "execute_result",
          "data": {
            "text/html": [
              "<div>\n",
              "<style scoped>\n",
              "    .dataframe tbody tr th:only-of-type {\n",
              "        vertical-align: middle;\n",
              "    }\n",
              "\n",
              "    .dataframe tbody tr th {\n",
              "        vertical-align: top;\n",
              "    }\n",
              "\n",
              "    .dataframe thead th {\n",
              "        text-align: right;\n",
              "    }\n",
              "</style>\n",
              "<table border=\"1\" class=\"dataframe\">\n",
              "  <thead>\n",
              "    <tr style=\"text-align: right;\">\n",
              "      <th></th>\n",
              "      <th>Index</th>\n",
              "      <th>Industry</th>\n",
              "      <th>VWAP</th>\n",
              "      <th>General Index</th>\n",
              "      <th>NAV</th>\n",
              "      <th>P/E Ratio</th>\n",
              "      <th>Volumes Traded</th>\n",
              "      <th>Inventory Turnover</th>\n",
              "      <th>Covid Impact (Beta)</th>\n",
              "      <th>Tracking Error</th>\n",
              "      <th>Dollar Exchange Rate</th>\n",
              "      <th>Put-Call Ratio</th>\n",
              "      <th>P/B Ratio</th>\n",
              "      <th>Stock Price</th>\n",
              "    </tr>\n",
              "  </thead>\n",
              "  <tbody>\n",
              "    <tr>\n",
              "      <th>0</th>\n",
              "      <td>3.0</td>\n",
              "      <td>3.0</td>\n",
              "      <td>700.290000</td>\n",
              "      <td>12765.84</td>\n",
              "      <td>32.38</td>\n",
              "      <td>45.350000</td>\n",
              "      <td>1208599.0</td>\n",
              "      <td>5.05</td>\n",
              "      <td>-0.43</td>\n",
              "      <td>0.0520</td>\n",
              "      <td>1.0</td>\n",
              "      <td>0.610000</td>\n",
              "      <td>9.200000</td>\n",
              "      <td>156.987852</td>\n",
              "    </tr>\n",
              "    <tr>\n",
              "      <th>1</th>\n",
              "      <td>3.0</td>\n",
              "      <td>3.0</td>\n",
              "      <td>214.520000</td>\n",
              "      <td>12765.84</td>\n",
              "      <td>33.25</td>\n",
              "      <td>170.560000</td>\n",
              "      <td>13753356.0</td>\n",
              "      <td>3.10</td>\n",
              "      <td>0.23</td>\n",
              "      <td>0.0164</td>\n",
              "      <td>1.0</td>\n",
              "      <td>0.942804</td>\n",
              "      <td>6.910000</td>\n",
              "      <td>560.859622</td>\n",
              "    </tr>\n",
              "    <tr>\n",
              "      <th>2</th>\n",
              "      <td>3.0</td>\n",
              "      <td>3.0</td>\n",
              "      <td>943.420000</td>\n",
              "      <td>12765.84</td>\n",
              "      <td>88.27</td>\n",
              "      <td>143.580000</td>\n",
              "      <td>6892003.0</td>\n",
              "      <td>7.70</td>\n",
              "      <td>0.23</td>\n",
              "      <td>0.0396</td>\n",
              "      <td>1.0</td>\n",
              "      <td>0.946485</td>\n",
              "      <td>6.090000</td>\n",
              "      <td>1279.732874</td>\n",
              "    </tr>\n",
              "    <tr>\n",
              "      <th>3</th>\n",
              "      <td>0.0</td>\n",
              "      <td>0.0</td>\n",
              "      <td>828.130000</td>\n",
              "      <td>38182.08</td>\n",
              "      <td>73.66</td>\n",
              "      <td>151.760000</td>\n",
              "      <td>8316793.0</td>\n",
              "      <td>4.80</td>\n",
              "      <td>0.03</td>\n",
              "      <td>0.0431</td>\n",
              "      <td>74.9</td>\n",
              "      <td>1.110000</td>\n",
              "      <td>5.600000</td>\n",
              "      <td>1121.787632</td>\n",
              "    </tr>\n",
              "    <tr>\n",
              "      <th>4</th>\n",
              "      <td>4.0</td>\n",
              "      <td>4.0</td>\n",
              "      <td>485.723837</td>\n",
              "      <td>3351.28</td>\n",
              "      <td>23.79</td>\n",
              "      <td>105.148726</td>\n",
              "      <td>3943312.0</td>\n",
              "      <td>8.06</td>\n",
              "      <td>-0.43</td>\n",
              "      <td>0.0244</td>\n",
              "      <td>1.0</td>\n",
              "      <td>1.070000</td>\n",
              "      <td>9.460000</td>\n",
              "      <td>382.962534</td>\n",
              "    </tr>\n",
              "    <tr>\n",
              "      <th>...</th>\n",
              "      <td>...</td>\n",
              "      <td>...</td>\n",
              "      <td>...</td>\n",
              "      <td>...</td>\n",
              "      <td>...</td>\n",
              "      <td>...</td>\n",
              "      <td>...</td>\n",
              "      <td>...</td>\n",
              "      <td>...</td>\n",
              "      <td>...</td>\n",
              "      <td>...</td>\n",
              "      <td>...</td>\n",
              "      <td>...</td>\n",
              "      <td>...</td>\n",
              "    </tr>\n",
              "    <tr>\n",
              "      <th>7378</th>\n",
              "      <td>2.0</td>\n",
              "      <td>2.0</td>\n",
              "      <td>773.910000</td>\n",
              "      <td>11270.15</td>\n",
              "      <td>40.28</td>\n",
              "      <td>61.370000</td>\n",
              "      <td>19212221.0</td>\n",
              "      <td>4.34</td>\n",
              "      <td>0.78</td>\n",
              "      <td>0.0340</td>\n",
              "      <td>74.9</td>\n",
              "      <td>0.980000</td>\n",
              "      <td>4.978322</td>\n",
              "      <td>248.019321</td>\n",
              "    </tr>\n",
              "    <tr>\n",
              "      <th>7379</th>\n",
              "      <td>1.0</td>\n",
              "      <td>1.0</td>\n",
              "      <td>61.970000</td>\n",
              "      <td>55722.00</td>\n",
              "      <td>79.56</td>\n",
              "      <td>62.900000</td>\n",
              "      <td>8108942.0</td>\n",
              "      <td>3.48</td>\n",
              "      <td>0.23</td>\n",
              "      <td>0.0528</td>\n",
              "      <td>17.7</td>\n",
              "      <td>0.840000</td>\n",
              "      <td>5.043177</td>\n",
              "      <td>494.555631</td>\n",
              "    </tr>\n",
              "    <tr>\n",
              "      <th>7380</th>\n",
              "      <td>1.0</td>\n",
              "      <td>1.0</td>\n",
              "      <td>131.990000</td>\n",
              "      <td>55722.00</td>\n",
              "      <td>26.16</td>\n",
              "      <td>198.770000</td>\n",
              "      <td>8382586.0</td>\n",
              "      <td>3.04</td>\n",
              "      <td>0.03</td>\n",
              "      <td>0.0359</td>\n",
              "      <td>17.7</td>\n",
              "      <td>1.220000</td>\n",
              "      <td>5.062095</td>\n",
              "      <td>500.869063</td>\n",
              "    </tr>\n",
              "    <tr>\n",
              "      <th>7381</th>\n",
              "      <td>4.0</td>\n",
              "      <td>4.0</td>\n",
              "      <td>643.720000</td>\n",
              "      <td>3351.28</td>\n",
              "      <td>29.24</td>\n",
              "      <td>38.830000</td>\n",
              "      <td>18638400.0</td>\n",
              "      <td>2.66</td>\n",
              "      <td>0.03</td>\n",
              "      <td>0.0581</td>\n",
              "      <td>1.0</td>\n",
              "      <td>1.040000</td>\n",
              "      <td>4.981380</td>\n",
              "      <td>113.170686</td>\n",
              "    </tr>\n",
              "    <tr>\n",
              "      <th>7382</th>\n",
              "      <td>4.0</td>\n",
              "      <td>4.0</td>\n",
              "      <td>126.460000</td>\n",
              "      <td>3351.28</td>\n",
              "      <td>23.30</td>\n",
              "      <td>105.830000</td>\n",
              "      <td>14707806.0</td>\n",
              "      <td>7.51</td>\n",
              "      <td>0.23</td>\n",
              "      <td>0.0490</td>\n",
              "      <td>1.0</td>\n",
              "      <td>1.230000</td>\n",
              "      <td>5.073788</td>\n",
              "      <td>236.641085</td>\n",
              "    </tr>\n",
              "  </tbody>\n",
              "</table>\n",
              "<p>7383 rows × 14 columns</p>\n",
              "</div>"
            ],
            "text/plain": [
              "      Index  Industry        VWAP  ...  Put-Call Ratio  P/B Ratio  Stock Price\n",
              "0       3.0       3.0  700.290000  ...        0.610000   9.200000   156.987852\n",
              "1       3.0       3.0  214.520000  ...        0.942804   6.910000   560.859622\n",
              "2       3.0       3.0  943.420000  ...        0.946485   6.090000  1279.732874\n",
              "3       0.0       0.0  828.130000  ...        1.110000   5.600000  1121.787632\n",
              "4       4.0       4.0  485.723837  ...        1.070000   9.460000   382.962534\n",
              "...     ...       ...         ...  ...             ...        ...          ...\n",
              "7378    2.0       2.0  773.910000  ...        0.980000   4.978322   248.019321\n",
              "7379    1.0       1.0   61.970000  ...        0.840000   5.043177   494.555631\n",
              "7380    1.0       1.0  131.990000  ...        1.220000   5.062095   500.869063\n",
              "7381    4.0       4.0  643.720000  ...        1.040000   4.981380   113.170686\n",
              "7382    4.0       4.0  126.460000  ...        1.230000   5.073788   236.641085\n",
              "\n",
              "[7383 rows x 14 columns]"
            ]
          },
          "metadata": {
            "tags": []
          },
          "execution_count": 8
        }
      ]
    },
    {
      "cell_type": "code",
      "metadata": {
        "id": "DrbAKCUCmbU9",
        "colab_type": "code",
        "colab": {
          "base_uri": "https://localhost:8080/",
          "height": 296
        },
        "outputId": "a9710e74-8199-4bc2-db9f-6b68ccbc332b"
      },
      "source": [
        "sns.boxplot(x = Train[Train.columns[2]])"
      ],
      "execution_count": 9,
      "outputs": [
        {
          "output_type": "execute_result",
          "data": {
            "text/plain": [
              "<matplotlib.axes._subplots.AxesSubplot at 0x7f9fb68d0278>"
            ]
          },
          "metadata": {
            "tags": []
          },
          "execution_count": 9
        },
        {
          "output_type": "display_data",
          "data": {
            "image/png": "[encoded data removed]",
            "text/plain": [
              "<Figure size 432x288 with 1 Axes>"
            ]
          },
          "metadata": {
            "tags": [],
            "needs_background": "light"
          }
        }
      ]
    },
    {
      "cell_type": "code",
      "metadata": {
        "id": "W-WID_OQmtr7",
        "colab_type": "code",
        "colab": {}
      },
      "source": [
        "Q1 = Train[Train.columns[2:-1]].quantile(0.2)\n",
        "Q3 = Train[Train.columns[2:-1]].quantile(0.8)\n",
        "\n",
        "IQR = Q1 - Q3"
      ],
      "execution_count": 10,
      "outputs": []
    },
    {
      "cell_type": "code",
      "metadata": {
        "id": "wEQKb_ACo4rr",
        "colab_type": "code",
        "colab": {
          "base_uri": "https://localhost:8080/",
          "height": 221
        },
        "outputId": "2d56ae4c-31d5-46ed-85a3-94f029a2c861"
      },
      "source": [
        "IQR"
      ],
      "execution_count": 11,
      "outputs": [
        {
          "output_type": "execute_result",
          "data": {
            "text/plain": [
              "VWAP                   -5.731000e+02\n",
              "General Index          -4.144520e+04\n",
              "NAV                    -5.338600e+01\n",
              "P/E Ratio              -1.128660e+02\n",
              "Volumes Traded         -1.151669e+07\n",
              "Inventory Turnover     -3.310000e+00\n",
              "Covid Impact (Beta)    -2.000000e-01\n",
              "Tracking Error         -2.776000e-02\n",
              "Dollar Exchange Rate   -7.390000e+01\n",
              "Put-Call Ratio         -4.100000e-01\n",
              "P/B Ratio              -5.390000e+00\n",
              "dtype: float64"
            ]
          },
          "metadata": {
            "tags": []
          },
          "execution_count": 11
        }
      ]
    },
    {
      "cell_type": "code",
      "metadata": {
        "id": "zSLOkq8no56F",
        "colab_type": "code",
        "colab": {
          "base_uri": "https://localhost:8080/",
          "height": 453
        },
        "outputId": "b8ac2318-990e-4e37-c104-c139dae18935"
      },
      "source": [
        "(Train[Train.columns[2:-1]] > (Q1 - 1.5*IQR)) | (Train[Train.columns[2:-1]] < (Q3 + 1.5*IQR))"
      ],
      "execution_count": 12,
      "outputs": [
        {
          "output_type": "execute_result",
          "data": {
            "text/html": [
              "<div>\n",
              "<style scoped>\n",
              "    .dataframe tbody tr th:only-of-type {\n",
              "        vertical-align: middle;\n",
              "    }\n",
              "\n",
              "    .dataframe tbody tr th {\n",
              "        vertical-align: top;\n",
              "    }\n",
              "\n",
              "    .dataframe thead th {\n",
              "        text-align: right;\n",
              "    }\n",
              "</style>\n",
              "<table border=\"1\" class=\"dataframe\">\n",
              "  <thead>\n",
              "    <tr style=\"text-align: right;\">\n",
              "      <th></th>\n",
              "      <th>VWAP</th>\n",
              "      <th>General Index</th>\n",
              "      <th>NAV</th>\n",
              "      <th>P/E Ratio</th>\n",
              "      <th>Volumes Traded</th>\n",
              "      <th>Inventory Turnover</th>\n",
              "      <th>Covid Impact (Beta)</th>\n",
              "      <th>Tracking Error</th>\n",
              "      <th>Dollar Exchange Rate</th>\n",
              "      <th>Put-Call Ratio</th>\n",
              "      <th>P/B Ratio</th>\n",
              "    </tr>\n",
              "  </thead>\n",
              "  <tbody>\n",
              "    <tr>\n",
              "      <th>0</th>\n",
              "      <td>False</td>\n",
              "      <td>False</td>\n",
              "      <td>False</td>\n",
              "      <td>False</td>\n",
              "      <td>False</td>\n",
              "      <td>False</td>\n",
              "      <td>True</td>\n",
              "      <td>False</td>\n",
              "      <td>False</td>\n",
              "      <td>False</td>\n",
              "      <td>False</td>\n",
              "    </tr>\n",
              "    <tr>\n",
              "      <th>1</th>\n",
              "      <td>False</td>\n",
              "      <td>False</td>\n",
              "      <td>False</td>\n",
              "      <td>False</td>\n",
              "      <td>False</td>\n",
              "      <td>False</td>\n",
              "      <td>False</td>\n",
              "      <td>False</td>\n",
              "      <td>False</td>\n",
              "      <td>False</td>\n",
              "      <td>False</td>\n",
              "    </tr>\n",
              "    <tr>\n",
              "      <th>2</th>\n",
              "      <td>False</td>\n",
              "      <td>False</td>\n",
              "      <td>False</td>\n",
              "      <td>False</td>\n",
              "      <td>False</td>\n",
              "      <td>False</td>\n",
              "      <td>False</td>\n",
              "      <td>False</td>\n",
              "      <td>False</td>\n",
              "      <td>False</td>\n",
              "      <td>False</td>\n",
              "    </tr>\n",
              "    <tr>\n",
              "      <th>3</th>\n",
              "      <td>False</td>\n",
              "      <td>False</td>\n",
              "      <td>False</td>\n",
              "      <td>False</td>\n",
              "      <td>False</td>\n",
              "      <td>False</td>\n",
              "      <td>False</td>\n",
              "      <td>False</td>\n",
              "      <td>False</td>\n",
              "      <td>False</td>\n",
              "      <td>False</td>\n",
              "    </tr>\n",
              "    <tr>\n",
              "      <th>4</th>\n",
              "      <td>False</td>\n",
              "      <td>False</td>\n",
              "      <td>False</td>\n",
              "      <td>False</td>\n",
              "      <td>False</td>\n",
              "      <td>False</td>\n",
              "      <td>True</td>\n",
              "      <td>False</td>\n",
              "      <td>False</td>\n",
              "      <td>False</td>\n",
              "      <td>False</td>\n",
              "    </tr>\n",
              "    <tr>\n",
              "      <th>...</th>\n",
              "      <td>...</td>\n",
              "      <td>...</td>\n",
              "      <td>...</td>\n",
              "      <td>...</td>\n",
              "      <td>...</td>\n",
              "      <td>...</td>\n",
              "      <td>...</td>\n",
              "      <td>...</td>\n",
              "      <td>...</td>\n",
              "      <td>...</td>\n",
              "      <td>...</td>\n",
              "    </tr>\n",
              "    <tr>\n",
              "      <th>7378</th>\n",
              "      <td>False</td>\n",
              "      <td>False</td>\n",
              "      <td>False</td>\n",
              "      <td>False</td>\n",
              "      <td>False</td>\n",
              "      <td>False</td>\n",
              "      <td>True</td>\n",
              "      <td>False</td>\n",
              "      <td>False</td>\n",
              "      <td>False</td>\n",
              "      <td>False</td>\n",
              "    </tr>\n",
              "    <tr>\n",
              "      <th>7379</th>\n",
              "      <td>False</td>\n",
              "      <td>False</td>\n",
              "      <td>False</td>\n",
              "      <td>False</td>\n",
              "      <td>False</td>\n",
              "      <td>False</td>\n",
              "      <td>False</td>\n",
              "      <td>False</td>\n",
              "      <td>False</td>\n",
              "      <td>False</td>\n",
              "      <td>False</td>\n",
              "    </tr>\n",
              "    <tr>\n",
              "      <th>7380</th>\n",
              "      <td>False</td>\n",
              "      <td>False</td>\n",
              "      <td>False</td>\n",
              "      <td>False</td>\n",
              "      <td>False</td>\n",
              "      <td>False</td>\n",
              "      <td>False</td>\n",
              "      <td>False</td>\n",
              "      <td>False</td>\n",
              "      <td>False</td>\n",
              "      <td>False</td>\n",
              "    </tr>\n",
              "    <tr>\n",
              "      <th>7381</th>\n",
              "      <td>False</td>\n",
              "      <td>False</td>\n",
              "      <td>False</td>\n",
              "      <td>False</td>\n",
              "      <td>False</td>\n",
              "      <td>False</td>\n",
              "      <td>False</td>\n",
              "      <td>False</td>\n",
              "      <td>False</td>\n",
              "      <td>False</td>\n",
              "      <td>False</td>\n",
              "    </tr>\n",
              "    <tr>\n",
              "      <th>7382</th>\n",
              "      <td>False</td>\n",
              "      <td>False</td>\n",
              "      <td>False</td>\n",
              "      <td>False</td>\n",
              "      <td>False</td>\n",
              "      <td>False</td>\n",
              "      <td>False</td>\n",
              "      <td>False</td>\n",
              "      <td>False</td>\n",
              "      <td>False</td>\n",
              "      <td>False</td>\n",
              "    </tr>\n",
              "  </tbody>\n",
              "</table>\n",
              "<p>7383 rows × 11 columns</p>\n",
              "</div>"
            ],
            "text/plain": [
              "       VWAP  General Index  ...  Put-Call Ratio  P/B Ratio\n",
              "0     False          False  ...           False      False\n",
              "1     False          False  ...           False      False\n",
              "2     False          False  ...           False      False\n",
              "3     False          False  ...           False      False\n",
              "4     False          False  ...           False      False\n",
              "...     ...            ...  ...             ...        ...\n",
              "7378  False          False  ...           False      False\n",
              "7379  False          False  ...           False      False\n",
              "7380  False          False  ...           False      False\n",
              "7381  False          False  ...           False      False\n",
              "7382  False          False  ...           False      False\n",
              "\n",
              "[7383 rows x 11 columns]"
            ]
          },
          "metadata": {
            "tags": []
          },
          "execution_count": 12
        }
      ]
    },
    {
      "cell_type": "code",
      "metadata": {
        "id": "fvs5CNJtpU5R",
        "colab_type": "code",
        "colab": {}
      },
      "source": [
        "Train_out = Train[~((Train[Train.columns[2:-1]] > (Q1 - 1.5*IQR)) | (Train[Train.columns[2:-1]] < (Q3 + 1.5*IQR))).any(axis=1)]"
      ],
      "execution_count": 13,
      "outputs": []
    },
    {
      "cell_type": "code",
      "metadata": {
        "id": "zczxYcTrpMM2",
        "colab_type": "code",
        "colab": {
          "base_uri": "https://localhost:8080/",
          "height": 34
        },
        "outputId": "1666690f-87ea-4acb-c3ec-e6222004fea1"
      },
      "source": [
        "Train_out.shape"
      ],
      "execution_count": 14,
      "outputs": [
        {
          "output_type": "execute_result",
          "data": {
            "text/plain": [
              "(4641, 14)"
            ]
          },
          "metadata": {
            "tags": []
          },
          "execution_count": 14
        }
      ]
    },
    {
      "cell_type": "code",
      "metadata": {
        "id": "QGhy0Jn0vx4U",
        "colab_type": "code",
        "colab": {
          "base_uri": "https://localhost:8080/",
          "height": 473
        },
        "outputId": "f411f95b-95f5-464f-e70e-4067222ca749"
      },
      "source": [
        "Train_out"
      ],
      "execution_count": 15,
      "outputs": [
        {
          "output_type": "execute_result",
          "data": {
            "text/html": [
              "<div>\n",
              "<style scoped>\n",
              "    .dataframe tbody tr th:only-of-type {\n",
              "        vertical-align: middle;\n",
              "    }\n",
              "\n",
              "    .dataframe tbody tr th {\n",
              "        vertical-align: top;\n",
              "    }\n",
              "\n",
              "    .dataframe thead th {\n",
              "        text-align: right;\n",
              "    }\n",
              "</style>\n",
              "<table border=\"1\" class=\"dataframe\">\n",
              "  <thead>\n",
              "    <tr style=\"text-align: right;\">\n",
              "      <th></th>\n",
              "      <th>Index</th>\n",
              "      <th>Industry</th>\n",
              "      <th>VWAP</th>\n",
              "      <th>General Index</th>\n",
              "      <th>NAV</th>\n",
              "      <th>P/E Ratio</th>\n",
              "      <th>Volumes Traded</th>\n",
              "      <th>Inventory Turnover</th>\n",
              "      <th>Covid Impact (Beta)</th>\n",
              "      <th>Tracking Error</th>\n",
              "      <th>Dollar Exchange Rate</th>\n",
              "      <th>Put-Call Ratio</th>\n",
              "      <th>P/B Ratio</th>\n",
              "      <th>Stock Price</th>\n",
              "    </tr>\n",
              "  </thead>\n",
              "  <tbody>\n",
              "    <tr>\n",
              "      <th>1</th>\n",
              "      <td>3.0</td>\n",
              "      <td>3.0</td>\n",
              "      <td>214.52</td>\n",
              "      <td>12765.84</td>\n",
              "      <td>33.25</td>\n",
              "      <td>170.56</td>\n",
              "      <td>13753356.0</td>\n",
              "      <td>3.10</td>\n",
              "      <td>0.23</td>\n",
              "      <td>0.0164</td>\n",
              "      <td>1.0</td>\n",
              "      <td>0.942804</td>\n",
              "      <td>6.910000</td>\n",
              "      <td>560.859622</td>\n",
              "    </tr>\n",
              "    <tr>\n",
              "      <th>2</th>\n",
              "      <td>3.0</td>\n",
              "      <td>3.0</td>\n",
              "      <td>943.42</td>\n",
              "      <td>12765.84</td>\n",
              "      <td>88.27</td>\n",
              "      <td>143.58</td>\n",
              "      <td>6892003.0</td>\n",
              "      <td>7.70</td>\n",
              "      <td>0.23</td>\n",
              "      <td>0.0396</td>\n",
              "      <td>1.0</td>\n",
              "      <td>0.946485</td>\n",
              "      <td>6.090000</td>\n",
              "      <td>1279.732874</td>\n",
              "    </tr>\n",
              "    <tr>\n",
              "      <th>3</th>\n",
              "      <td>0.0</td>\n",
              "      <td>0.0</td>\n",
              "      <td>828.13</td>\n",
              "      <td>38182.08</td>\n",
              "      <td>73.66</td>\n",
              "      <td>151.76</td>\n",
              "      <td>8316793.0</td>\n",
              "      <td>4.80</td>\n",
              "      <td>0.03</td>\n",
              "      <td>0.0431</td>\n",
              "      <td>74.9</td>\n",
              "      <td>1.110000</td>\n",
              "      <td>5.600000</td>\n",
              "      <td>1121.787632</td>\n",
              "    </tr>\n",
              "    <tr>\n",
              "      <th>5</th>\n",
              "      <td>0.0</td>\n",
              "      <td>0.0</td>\n",
              "      <td>259.61</td>\n",
              "      <td>38182.08</td>\n",
              "      <td>10.63</td>\n",
              "      <td>153.05</td>\n",
              "      <td>19263869.0</td>\n",
              "      <td>8.04</td>\n",
              "      <td>0.03</td>\n",
              "      <td>0.0344</td>\n",
              "      <td>74.9</td>\n",
              "      <td>1.150000</td>\n",
              "      <td>5.510000</td>\n",
              "      <td>158.687016</td>\n",
              "    </tr>\n",
              "    <tr>\n",
              "      <th>8</th>\n",
              "      <td>2.0</td>\n",
              "      <td>2.0</td>\n",
              "      <td>950.81</td>\n",
              "      <td>11270.15</td>\n",
              "      <td>31.50</td>\n",
              "      <td>159.58</td>\n",
              "      <td>1361019.0</td>\n",
              "      <td>2.72</td>\n",
              "      <td>0.03</td>\n",
              "      <td>0.0534</td>\n",
              "      <td>74.9</td>\n",
              "      <td>1.220000</td>\n",
              "      <td>6.460000</td>\n",
              "      <td>514.240811</td>\n",
              "    </tr>\n",
              "    <tr>\n",
              "      <th>...</th>\n",
              "      <td>...</td>\n",
              "      <td>...</td>\n",
              "      <td>...</td>\n",
              "      <td>...</td>\n",
              "      <td>...</td>\n",
              "      <td>...</td>\n",
              "      <td>...</td>\n",
              "      <td>...</td>\n",
              "      <td>...</td>\n",
              "      <td>...</td>\n",
              "      <td>...</td>\n",
              "      <td>...</td>\n",
              "      <td>...</td>\n",
              "      <td>...</td>\n",
              "    </tr>\n",
              "    <tr>\n",
              "      <th>7376</th>\n",
              "      <td>4.0</td>\n",
              "      <td>4.0</td>\n",
              "      <td>859.76</td>\n",
              "      <td>3351.28</td>\n",
              "      <td>34.16</td>\n",
              "      <td>192.53</td>\n",
              "      <td>5295644.0</td>\n",
              "      <td>7.19</td>\n",
              "      <td>0.11</td>\n",
              "      <td>0.0337</td>\n",
              "      <td>1.0</td>\n",
              "      <td>0.820000</td>\n",
              "      <td>4.930855</td>\n",
              "      <td>649.376301</td>\n",
              "    </tr>\n",
              "    <tr>\n",
              "      <th>7379</th>\n",
              "      <td>1.0</td>\n",
              "      <td>1.0</td>\n",
              "      <td>61.97</td>\n",
              "      <td>55722.00</td>\n",
              "      <td>79.56</td>\n",
              "      <td>62.90</td>\n",
              "      <td>8108942.0</td>\n",
              "      <td>3.48</td>\n",
              "      <td>0.23</td>\n",
              "      <td>0.0528</td>\n",
              "      <td>17.7</td>\n",
              "      <td>0.840000</td>\n",
              "      <td>5.043177</td>\n",
              "      <td>494.555631</td>\n",
              "    </tr>\n",
              "    <tr>\n",
              "      <th>7380</th>\n",
              "      <td>1.0</td>\n",
              "      <td>1.0</td>\n",
              "      <td>131.99</td>\n",
              "      <td>55722.00</td>\n",
              "      <td>26.16</td>\n",
              "      <td>198.77</td>\n",
              "      <td>8382586.0</td>\n",
              "      <td>3.04</td>\n",
              "      <td>0.03</td>\n",
              "      <td>0.0359</td>\n",
              "      <td>17.7</td>\n",
              "      <td>1.220000</td>\n",
              "      <td>5.062095</td>\n",
              "      <td>500.869063</td>\n",
              "    </tr>\n",
              "    <tr>\n",
              "      <th>7381</th>\n",
              "      <td>4.0</td>\n",
              "      <td>4.0</td>\n",
              "      <td>643.72</td>\n",
              "      <td>3351.28</td>\n",
              "      <td>29.24</td>\n",
              "      <td>38.83</td>\n",
              "      <td>18638400.0</td>\n",
              "      <td>2.66</td>\n",
              "      <td>0.03</td>\n",
              "      <td>0.0581</td>\n",
              "      <td>1.0</td>\n",
              "      <td>1.040000</td>\n",
              "      <td>4.981380</td>\n",
              "      <td>113.170686</td>\n",
              "    </tr>\n",
              "    <tr>\n",
              "      <th>7382</th>\n",
              "      <td>4.0</td>\n",
              "      <td>4.0</td>\n",
              "      <td>126.46</td>\n",
              "      <td>3351.28</td>\n",
              "      <td>23.30</td>\n",
              "      <td>105.83</td>\n",
              "      <td>14707806.0</td>\n",
              "      <td>7.51</td>\n",
              "      <td>0.23</td>\n",
              "      <td>0.0490</td>\n",
              "      <td>1.0</td>\n",
              "      <td>1.230000</td>\n",
              "      <td>5.073788</td>\n",
              "      <td>236.641085</td>\n",
              "    </tr>\n",
              "  </tbody>\n",
              "</table>\n",
              "<p>4641 rows × 14 columns</p>\n",
              "</div>"
            ],
            "text/plain": [
              "      Index  Industry    VWAP  ...  Put-Call Ratio  P/B Ratio  Stock Price\n",
              "1       3.0       3.0  214.52  ...        0.942804   6.910000   560.859622\n",
              "2       3.0       3.0  943.42  ...        0.946485   6.090000  1279.732874\n",
              "3       0.0       0.0  828.13  ...        1.110000   5.600000  1121.787632\n",
              "5       0.0       0.0  259.61  ...        1.150000   5.510000   158.687016\n",
              "8       2.0       2.0  950.81  ...        1.220000   6.460000   514.240811\n",
              "...     ...       ...     ...  ...             ...        ...          ...\n",
              "7376    4.0       4.0  859.76  ...        0.820000   4.930855   649.376301\n",
              "7379    1.0       1.0   61.97  ...        0.840000   5.043177   494.555631\n",
              "7380    1.0       1.0  131.99  ...        1.220000   5.062095   500.869063\n",
              "7381    4.0       4.0  643.72  ...        1.040000   4.981380   113.170686\n",
              "7382    4.0       4.0  126.46  ...        1.230000   5.073788   236.641085\n",
              "\n",
              "[4641 rows x 14 columns]"
            ]
          },
          "metadata": {
            "tags": []
          },
          "execution_count": 15
        }
      ]
    },
    {
      "cell_type": "code",
      "metadata": {
        "id": "RNZu8nU1xTkz",
        "colab_type": "code",
        "colab": {}
      },
      "source": [
        "correlationMatrix = Train_out.corr()\n",
        "\n"
      ],
      "execution_count": 16,
      "outputs": []
    },
    {
      "cell_type": "code",
      "metadata": {
        "id": "ntmh-M2ZRECq",
        "colab_type": "code",
        "colab": {
          "base_uri": "https://localhost:8080/",
          "height": 747
        },
        "outputId": "880b95d7-e258-407e-be17-ac7cc4873b67"
      },
      "source": [
        "cg = sns.clustermap(correlationMatrix, cmap =\"YlGnBu\", linewidths = 0.3); \n",
        "plt.setp(cg.ax_heatmap.yaxis.get_majorticklabels(), rotation = 0) \n",
        "  \n",
        "cg "
      ],
      "execution_count": 17,
      "outputs": [
        {
          "output_type": "execute_result",
          "data": {
            "text/plain": [
              "<seaborn.matrix.ClusterGrid at 0x7f9fb3fd18d0>"
            ]
          },
          "metadata": {
            "tags": []
          },
          "execution_count": 17
        },
        {
          "output_type": "display_data",
          "data": {
            "image/png": "[encoded data removed]",
            "text/plain": [
              "<Figure size 720x720 with 4 Axes>"
            ]
          },
          "metadata": {
            "tags": [],
            "needs_background": "light"
          }
        }
      ]
    },
    {
      "cell_type": "code",
      "metadata": {
        "id": "THRrYB1zRtZD",
        "colab_type": "code",
        "colab": {
          "base_uri": "https://localhost:8080/",
          "height": 102
        },
        "outputId": "8620c194-ec49-4a5d-d9de-686e2ea14643"
      },
      "source": [
        "Train_out.columns"
      ],
      "execution_count": 18,
      "outputs": [
        {
          "output_type": "execute_result",
          "data": {
            "text/plain": [
              "Index(['Index', 'Industry', 'VWAP', 'General Index', 'NAV', 'P/E Ratio',\n",
              "       'Volumes Traded', 'Inventory Turnover', 'Covid Impact (Beta)',\n",
              "       'Tracking Error', 'Dollar Exchange Rate', 'Put-Call Ratio', 'P/B Ratio',\n",
              "       'Stock Price'],\n",
              "      dtype='object')"
            ]
          },
          "metadata": {
            "tags": []
          },
          "execution_count": 18
        }
      ]
    },
    {
      "cell_type": "code",
      "metadata": {
        "id": "DL3d0eYpSK9S",
        "colab_type": "code",
        "colab": {}
      },
      "source": [
        "X = np.array(Train_out[Train_out.columns[0:-1]])\n",
        "y = np.array(Train_out[Train_out.columns[-1]])"
      ],
      "execution_count": 19,
      "outputs": []
    },
    {
      "cell_type": "code",
      "metadata": {
        "id": "EnLmRqx7XUJB",
        "colab_type": "code",
        "colab": {
          "base_uri": "https://localhost:8080/",
          "height": 265
        },
        "outputId": "448b7eda-f208-4e93-c200-0d5b5b93bd55"
      },
      "source": [
        "plt.scatter(X[:, 5], y)\n",
        "plt.show()"
      ],
      "execution_count": 20,
      "outputs": [
        {
          "output_type": "display_data",
          "data": {
            "image/png": "[encoded data removed]",
            "text/plain": [
              "<Figure size 432x288 with 1 Axes>"
            ]
          },
          "metadata": {
            "tags": [],
            "needs_background": "light"
          }
        }
      ]
    },
    {
      "cell_type": "code",
      "metadata": {
        "id": "eiAbgTnSXZUf",
        "colab_type": "code",
        "colab": {
          "base_uri": "https://localhost:8080/",
          "height": 238
        },
        "outputId": "b5e48707-d42b-4b73-ff21-f7d357b2cb42"
      },
      "source": [
        "X"
      ],
      "execution_count": 21,
      "outputs": [
        {
          "output_type": "execute_result",
          "data": {
            "text/plain": [
              "array([[3.00000000e+00, 3.00000000e+00, 2.14520000e+02, ...,\n",
              "        1.00000000e+00, 9.42804276e-01, 6.91000000e+00],\n",
              "       [3.00000000e+00, 3.00000000e+00, 9.43420000e+02, ...,\n",
              "        1.00000000e+00, 9.46485067e-01, 6.09000000e+00],\n",
              "       [0.00000000e+00, 0.00000000e+00, 8.28130000e+02, ...,\n",
              "        7.49000000e+01, 1.11000000e+00, 5.60000000e+00],\n",
              "       ...,\n",
              "       [1.00000000e+00, 1.00000000e+00, 1.31990000e+02, ...,\n",
              "        1.77000000e+01, 1.22000000e+00, 5.06209479e+00],\n",
              "       [4.00000000e+00, 4.00000000e+00, 6.43720000e+02, ...,\n",
              "        1.00000000e+00, 1.04000000e+00, 4.98138016e+00],\n",
              "       [4.00000000e+00, 4.00000000e+00, 1.26460000e+02, ...,\n",
              "        1.00000000e+00, 1.23000000e+00, 5.07378784e+00]])"
            ]
          },
          "metadata": {
            "tags": []
          },
          "execution_count": 21
        }
      ]
    },
    {
      "cell_type": "code",
      "metadata": {
        "id": "PX0syJhVXfAr",
        "colab_type": "code",
        "colab": {
          "base_uri": "https://localhost:8080/",
          "height": 238
        },
        "outputId": "0e08256a-77b8-4628-f0a2-0097d67085f6"
      },
      "source": [
        "X"
      ],
      "execution_count": 22,
      "outputs": [
        {
          "output_type": "execute_result",
          "data": {
            "text/plain": [
              "array([[3.00000000e+00, 3.00000000e+00, 2.14520000e+02, ...,\n",
              "        1.00000000e+00, 9.42804276e-01, 6.91000000e+00],\n",
              "       [3.00000000e+00, 3.00000000e+00, 9.43420000e+02, ...,\n",
              "        1.00000000e+00, 9.46485067e-01, 6.09000000e+00],\n",
              "       [0.00000000e+00, 0.00000000e+00, 8.28130000e+02, ...,\n",
              "        7.49000000e+01, 1.11000000e+00, 5.60000000e+00],\n",
              "       ...,\n",
              "       [1.00000000e+00, 1.00000000e+00, 1.31990000e+02, ...,\n",
              "        1.77000000e+01, 1.22000000e+00, 5.06209479e+00],\n",
              "       [4.00000000e+00, 4.00000000e+00, 6.43720000e+02, ...,\n",
              "        1.00000000e+00, 1.04000000e+00, 4.98138016e+00],\n",
              "       [4.00000000e+00, 4.00000000e+00, 1.26460000e+02, ...,\n",
              "        1.00000000e+00, 1.23000000e+00, 5.07378784e+00]])"
            ]
          },
          "metadata": {
            "tags": []
          },
          "execution_count": 22
        }
      ]
    },
    {
      "cell_type": "code",
      "metadata": {
        "id": "q0zHhD4pmNjA",
        "colab_type": "code",
        "colab": {}
      },
      "source": [
        "#X_normalized = MinMaxScaler().fit_transform(X)\n",
        "\n",
        "X_train, X_test, y_train, y_test = train_test_split(X,y,test_size = 0.2, random_state = 42)"
      ],
      "execution_count": 23,
      "outputs": []
    },
    {
      "cell_type": "code",
      "metadata": {
        "id": "CaQdEltna6UQ",
        "colab_type": "code",
        "colab": {
          "base_uri": "https://localhost:8080/",
          "height": 34
        },
        "outputId": "5e121d6b-0cdf-4e3f-d32e-af6bcb544af3"
      },
      "source": [
        "from sklearn.linear_model import LinearRegression\n",
        "\n",
        "regressor = LinearRegression()\n",
        "regressor.fit(X_train, y_train)\n",
        "\n"
      ],
      "execution_count": 25,
      "outputs": [
        {
          "output_type": "execute_result",
          "data": {
            "text/plain": [
              "LinearRegression(copy_X=True, fit_intercept=True, n_jobs=None, normalize=False)"
            ]
          },
          "metadata": {
            "tags": []
          },
          "execution_count": 25
        }
      ]
    },
    {
      "cell_type": "code",
      "metadata": {
        "id": "CCoMu2f_bcRq",
        "colab_type": "code",
        "colab": {
          "base_uri": "https://localhost:8080/",
          "height": 85
        },
        "outputId": "8a2b78ef-0497-4850-9a27-d7e391cebe59"
      },
      "source": [
        "regressor.coef_"
      ],
      "execution_count": 34,
      "outputs": [
        {
          "output_type": "execute_result",
          "data": {
            "text/plain": [
              "array([ 3.03960256e+00,  3.03960256e+00,  2.61117357e-02,  4.15299191e-04,\n",
              "        1.04881579e+01,  5.27372037e+00, -1.11938371e-07,  3.61895186e-01,\n",
              "        3.15525276e+01,  2.10912613e+00,  4.09583982e-02, -1.73404038e+01,\n",
              "       -8.15557070e-02])"
            ]
          },
          "metadata": {
            "tags": []
          },
          "execution_count": 34
        }
      ]
    },
    {
      "cell_type": "code",
      "metadata": {
        "id": "7pZjw4qyCBQl",
        "colab_type": "code",
        "colab": {
          "base_uri": "https://localhost:8080/",
          "height": 102
        },
        "outputId": "55b0380d-4ce9-4459-a975-8ad52e90a756"
      },
      "source": [
        "data_test = pd.read_csv('Test_dataset.csv',sep=',')\n",
        "\n",
        "label_encoder = preprocessing.LabelEncoder() \n",
        "print(data_test.columns)\n",
        "data_test[data_test.columns[0]] = label_encoder.fit_transform(data_test[data_test.columns[0]])\n",
        "data_test[data_test.columns[1]] = label_encoder.fit_transform(data_test[data_test.columns[1]])\n",
        "data_test[data_test.columns[2]] = label_encoder.fit_transform(data_test[data_test.columns[1]])\n",
        "\n",
        "X_test = np.array(data_test[data_test.columns[1:]])\n"
      ],
      "execution_count": 26,
      "outputs": [
        {
          "output_type": "stream",
          "text": [
            "Index(['Stock Index', 'Index', 'Industry', 'VWAP', 'General Index', 'NAV',\n",
            "       'P/E Ratio', 'Volumes Traded', 'Inventory Turnover',\n",
            "       'Covid Impact (Beta)', 'Tracking Error', 'Dollar Exchange Rate',\n",
            "       'Put-Call Ratio', 'P/B Ratio'],\n",
            "      dtype='object')\n"
          ],
          "name": "stdout"
        }
      ]
    },
    {
      "cell_type": "code",
      "metadata": {
        "id": "NZqjb6lcTiRk",
        "colab_type": "code",
        "colab": {
          "base_uri": "https://localhost:8080/",
          "height": 34
        },
        "outputId": "5570eba2-40f0-4975-d47d-94ac3e89d91b"
      },
      "source": [
        "X_train.shape"
      ],
      "execution_count": 27,
      "outputs": [
        {
          "output_type": "execute_result",
          "data": {
            "text/plain": [
              "(3712, 13)"
            ]
          },
          "metadata": {
            "tags": []
          },
          "execution_count": 27
        }
      ]
    },
    {
      "cell_type": "code",
      "metadata": {
        "id": "OaKPH6i2Tnjd",
        "colab_type": "code",
        "colab": {
          "base_uri": "https://localhost:8080/",
          "height": 34
        },
        "outputId": "56af7715-6a6e-4705-b3e5-4c049fe32c47"
      },
      "source": [
        "X.shape"
      ],
      "execution_count": 28,
      "outputs": [
        {
          "output_type": "execute_result",
          "data": {
            "text/plain": [
              "(4641, 13)"
            ]
          },
          "metadata": {
            "tags": []
          },
          "execution_count": 28
        }
      ]
    },
    {
      "cell_type": "code",
      "metadata": {
        "id": "QgfWpLKqTslJ",
        "colab_type": "code",
        "colab": {
          "base_uri": "https://localhost:8080/",
          "height": 119
        },
        "outputId": "8e1f6548-00e6-4521-aba3-808a9f47182e"
      },
      "source": [
        "imp = IterativeImputer(max_iter=10, random_state=0)\n",
        "imp.fit(X_test)"
      ],
      "execution_count": 29,
      "outputs": [
        {
          "output_type": "execute_result",
          "data": {
            "text/plain": [
              "IterativeImputer(add_indicator=False, estimator=None,\n",
              "                 imputation_order='ascending', initial_strategy='mean',\n",
              "                 max_iter=10, max_value=None, min_value=None,\n",
              "                 missing_values=nan, n_nearest_features=None, random_state=0,\n",
              "                 sample_posterior=False, skip_complete=False, tol=0.001,\n",
              "                 verbose=0)"
            ]
          },
          "metadata": {
            "tags": []
          },
          "execution_count": 29
        }
      ]
    },
    {
      "cell_type": "code",
      "metadata": {
        "id": "B-hVs3p-T6Fv",
        "colab_type": "code",
        "colab": {}
      },
      "source": [
        "X_test = imp.transform(X_test)"
      ],
      "execution_count": 30,
      "outputs": []
    },
    {
      "cell_type": "code",
      "metadata": {
        "id": "73KVwghQUBzR",
        "colab_type": "code",
        "colab": {}
      },
      "source": [
        "result = pd.DataFrame(regressor.predict(X_test))\n",
        "\n",
        "result.to_csv('Output-1.csv')"
      ],
      "execution_count": 31,
      "outputs": []
    },
    {
      "cell_type": "code",
      "metadata": {
        "id": "lTnVCD2IUG2K",
        "colab_type": "code",
        "colab": {
          "base_uri": "https://localhost:8080/",
          "height": 34
        },
        "outputId": "28a3f99e-7f05-4083-c905-e773781f8210"
      },
      "source": [
        "regressor.predict(X_test[1].reshape(1,-1))"
      ],
      "execution_count": 32,
      "outputs": [
        {
          "output_type": "execute_result",
          "data": {
            "text/plain": [
              "array([410.92347211])"
            ]
          },
          "metadata": {
            "tags": []
          },
          "execution_count": 32
        }
      ]
    },
    {
      "cell_type": "code",
      "metadata": {
        "id": "xY-l-GbiX0Do",
        "colab_type": "code",
        "colab": {
          "base_uri": "https://localhost:8080/",
          "height": 51
        },
        "outputId": "80f84d58-14d3-4c6f-bb8b-795bd7e6f1bc"
      },
      "source": [
        "clf.get_params"
      ],
      "execution_count": 86,
      "outputs": [
        {
          "output_type": "execute_result",
          "data": {
            "text/plain": [
              "<bound method BaseEstimator.get_params of SVR(C=0.1, cache_size=200, coef0=0.0, degree=3, epsilon=0.1, gamma=0.001,\n",
              "    kernel='rbf', max_iter=-1, shrinking=True, tol=0.001, verbose=False)>"
            ]
          },
          "metadata": {
            "tags": []
          },
          "execution_count": 86
        }
      ]
    }
  ]
}